{
  "cells": [
    {
      "cell_type": "markdown",
      "metadata": {
        "id": "iLP_wj6u8MMc"
      },
      "source": [
        "<h1 align=\"center\"> 學第一個基本功能的TensorFlow程式就上手 </h1>"
      ]
    },
    {
      "cell_type": "markdown",
      "metadata": {
        "id": "SXHxdIWC8MMg"
      },
      "source": [
        "---\n",
        "\n",
        "\n",
        "Author: Eugene Su \n",
        "\n",
        "Email: <su.eugene@gmail.com>\n",
        "\n",
        "https://sites.google.com/view/smartrobot/lab\n",
        "\n",
        "\n",
        "---\n",
        "\n"
      ]
    },
    {
      "cell_type": "markdown",
      "metadata": {
        "id": "H4x-am9O8MMh"
      },
      "source": [
        "### 導入程式會使用到的模組(moduel)或套件(package)\n",
        "<em> import放在最開頭是個慣例 </em>"
      ]
    },
    {
      "cell_type": "code",
      "execution_count": 1,
      "metadata": {
        "colab": {
          "base_uri": "https://localhost:8080/"
        },
        "id": "SvMPnZ7I8MMi",
        "outputId": "18cfa90f-1dd2-4028-8cf8-a960cb3ce3ed"
      },
      "outputs": [
        {
          "name": "stdout",
          "output_type": "stream",
          "text": [
            "Looking in indexes: https://pypi.org/simple, https://us-python.pkg.dev/colab-wheels/public/simple/\n",
            "Requirement already satisfied: seaborn in /usr/local/lib/python3.7/dist-packages (0.11.2)\n",
            "Requirement already satisfied: matplotlib>=2.2 in /usr/local/lib/python3.7/dist-packages (from seaborn) (3.2.2)\n",
            "Requirement already satisfied: scipy>=1.0 in /usr/local/lib/python3.7/dist-packages (from seaborn) (1.7.3)\n",
            "Requirement already satisfied: pandas>=0.23 in /usr/local/lib/python3.7/dist-packages (from seaborn) (1.3.5)\n",
            "Requirement already satisfied: numpy>=1.15 in /usr/local/lib/python3.7/dist-packages (from seaborn) (1.21.6)\n",
            "Requirement already satisfied: kiwisolver>=1.0.1 in /usr/local/lib/python3.7/dist-packages (from matplotlib>=2.2->seaborn) (1.4.4)\n",
            "Requirement already satisfied: pyparsing!=2.0.4,!=2.1.2,!=2.1.6,>=2.0.1 in /usr/local/lib/python3.7/dist-packages (from matplotlib>=2.2->seaborn) (3.0.9)\n",
            "Requirement already satisfied: cycler>=0.10 in /usr/local/lib/python3.7/dist-packages (from matplotlib>=2.2->seaborn) (0.11.0)\n",
            "Requirement already satisfied: python-dateutil>=2.1 in /usr/local/lib/python3.7/dist-packages (from matplotlib>=2.2->seaborn) (2.8.2)\n",
            "Requirement already satisfied: typing-extensions in /usr/local/lib/python3.7/dist-packages (from kiwisolver>=1.0.1->matplotlib>=2.2->seaborn) (4.1.1)\n",
            "Requirement already satisfied: pytz>=2017.3 in /usr/local/lib/python3.7/dist-packages (from pandas>=0.23->seaborn) (2022.1)\n",
            "Requirement already satisfied: six>=1.5 in /usr/local/lib/python3.7/dist-packages (from python-dateutil>=2.1->matplotlib>=2.2->seaborn) (1.15.0)\n"
          ]
        }
      ],
      "source": [
        "# 在Google Colab安裝seaborn\n",
        "!pip install --upgrade seaborn"
      ]
    },
    {
      "cell_type": "code",
      "execution_count": 2,
      "metadata": {
        "id": "kzWjmDXp8MMj"
      },
      "outputs": [],
      "source": [
        "import tensorflow as tf\n",
        "from tensorflow import keras  # tensorflow.keras or tf.keras\n",
        "import matplotlib.pyplot as plt\n",
        "import numpy as np\n",
        "import seaborn as sn"
      ]
    },
    {
      "cell_type": "code",
      "execution_count": 3,
      "metadata": {
        "id": "it8yHbCL8MMk"
      },
      "outputs": [],
      "source": [
        "# IPython Magic Functions 內嵌圖表\n",
        "%matplotlib inline  "
      ]
    },
    {
      "cell_type": "markdown",
      "metadata": {
        "id": "__TPhlqC8MMk"
      },
      "source": [
        "### 載入MNIST資料集\n",
        "<a href=\"https://www.tensorflow.org/api_docs/python/tf/keras/datasets/mnist/load_data\"> <em> tf.keras.datasets.mnist.load_data </em> </a>"
      ]
    },
    {
      "cell_type": "code",
      "execution_count": 4,
      "metadata": {
        "colab": {
          "base_uri": "https://localhost:8080/"
        },
        "id": "kkUsOLMo8MMl",
        "outputId": "623f7880-f2d6-44d1-d518-8fd41ca0b9e0"
      },
      "outputs": [
        {
          "name": "stdout",
          "output_type": "stream",
          "text": [
            "Downloading data from https://storage.googleapis.com/tensorflow/tf-keras-datasets/mnist.npz\n",
            "11493376/11490434 [==============================] - 0s 0us/step\n",
            "11501568/11490434 [==============================] - 0s 0us/step\n"
          ]
        }
      ],
      "source": [
        "(X_train, y_train) , (X_val, y_val) = keras.datasets.mnist.load_data()"
      ]
    },
    {
      "cell_type": "code",
      "execution_count": 5,
      "metadata": {
        "colab": {
          "base_uri": "https://localhost:8080/"
        },
        "id": "XvfLIECQ8MMl",
        "outputId": "1514cc41-b8c1-43a9-e019-32fef7ece2ed"
      },
      "outputs": [
        {
          "data": {
            "text/plain": [
              "(60000, 28, 28)"
            ]
          },
          "execution_count": 5,
          "metadata": {},
          "output_type": "execute_result"
        }
      ],
      "source": [
        "# 訓練集X_train矩陣維度\n",
        "X_train.shape"
      ]
    },
    {
      "cell_type": "code",
      "execution_count": 6,
      "metadata": {
        "colab": {
          "base_uri": "https://localhost:8080/"
        },
        "id": "0t2kul9o8MMm",
        "outputId": "d51e152d-f2a4-40d2-a203-cc3a517a8564"
      },
      "outputs": [
        {
          "data": {
            "text/plain": [
              "(60000,)"
            ]
          },
          "execution_count": 6,
          "metadata": {},
          "output_type": "execute_result"
        }
      ],
      "source": [
        "# 訓練集y_train矩陣維度\n",
        "y_train.shape"
      ]
    },
    {
      "cell_type": "code",
      "execution_count": 7,
      "metadata": {
        "colab": {
          "base_uri": "https://localhost:8080/"
        },
        "id": "DtRuDiKu8MMn",
        "outputId": "051ea43b-df55-4c17-b215-57882942c9ae"
      },
      "outputs": [
        {
          "data": {
            "text/plain": [
              "(10000, 28, 28)"
            ]
          },
          "execution_count": 7,
          "metadata": {},
          "output_type": "execute_result"
        }
      ],
      "source": [
        "# 驗證集X_val矩陣維度\n",
        "X_val.shape"
      ]
    },
    {
      "cell_type": "code",
      "execution_count": 8,
      "metadata": {
        "colab": {
          "base_uri": "https://localhost:8080/"
        },
        "id": "wGi5ZLrQ8MMo",
        "outputId": "a4a8ac84-5030-4797-8f4f-cd946430796f"
      },
      "outputs": [
        {
          "data": {
            "text/plain": [
              "(10000,)"
            ]
          },
          "execution_count": 8,
          "metadata": {},
          "output_type": "execute_result"
        }
      ],
      "source": [
        "# 驗證集y_val矩陣維度\n",
        "y_val.shape"
      ]
    },
    {
      "cell_type": "code",
      "execution_count": 9,
      "metadata": {
        "colab": {
          "base_uri": "https://localhost:8080/"
        },
        "id": "S_iiMzvZ8MMo",
        "outputId": "3e9ad271-696f-47ac-c992-6efed52b0480"
      },
      "outputs": [
        {
          "data": {
            "text/plain": [
              "array([[  0,   0,   0,   0,   0,   0,   0,   0,   0,   0,   0,   0,   0,\n",
              "          0,   0,   0,   0,   0,   0,   0,   0,   0,   0,   0,   0,   0,\n",
              "          0,   0],\n",
              "       [  0,   0,   0,   0,   0,   0,   0,   0,   0,   0,   0,   0,   0,\n",
              "          0,   0,   0,   0,   0,   0,   0,   0,   0,   0,   0,   0,   0,\n",
              "          0,   0],\n",
              "       [  0,   0,   0,   0,   0,   0,   0,   0,   0,   0,   0,   0,   0,\n",
              "          0,   0,   0,   0,   0,   0,   0,   0,   0,   0,   0,   0,   0,\n",
              "          0,   0],\n",
              "       [  0,   0,   0,   0,   0,   0,   0,   0,   0,   0,   0,   0,   0,\n",
              "          0,   0,   0,   0,   0,   0,   0,   0,   0,   0,   0,   0,   0,\n",
              "          0,   0],\n",
              "       [  0,   0,   0,   0,   0,   0,   0,   0,   0,   0,   0,   0,   0,\n",
              "          0,   0,   0,   0,   0,   0,   0,   0,   0,   0,   0,   0,   0,\n",
              "          0,   0],\n",
              "       [  0,   0,   0,   0,   0,   0,   0,   0,   0,   0,   0,   0,   3,\n",
              "         18,  18,  18, 126, 136, 175,  26, 166, 255, 247, 127,   0,   0,\n",
              "          0,   0],\n",
              "       [  0,   0,   0,   0,   0,   0,   0,   0,  30,  36,  94, 154, 170,\n",
              "        253, 253, 253, 253, 253, 225, 172, 253, 242, 195,  64,   0,   0,\n",
              "          0,   0],\n",
              "       [  0,   0,   0,   0,   0,   0,   0,  49, 238, 253, 253, 253, 253,\n",
              "        253, 253, 253, 253, 251,  93,  82,  82,  56,  39,   0,   0,   0,\n",
              "          0,   0],\n",
              "       [  0,   0,   0,   0,   0,   0,   0,  18, 219, 253, 253, 253, 253,\n",
              "        253, 198, 182, 247, 241,   0,   0,   0,   0,   0,   0,   0,   0,\n",
              "          0,   0],\n",
              "       [  0,   0,   0,   0,   0,   0,   0,   0,  80, 156, 107, 253, 253,\n",
              "        205,  11,   0,  43, 154,   0,   0,   0,   0,   0,   0,   0,   0,\n",
              "          0,   0],\n",
              "       [  0,   0,   0,   0,   0,   0,   0,   0,   0,  14,   1, 154, 253,\n",
              "         90,   0,   0,   0,   0,   0,   0,   0,   0,   0,   0,   0,   0,\n",
              "          0,   0],\n",
              "       [  0,   0,   0,   0,   0,   0,   0,   0,   0,   0,   0, 139, 253,\n",
              "        190,   2,   0,   0,   0,   0,   0,   0,   0,   0,   0,   0,   0,\n",
              "          0,   0],\n",
              "       [  0,   0,   0,   0,   0,   0,   0,   0,   0,   0,   0,  11, 190,\n",
              "        253,  70,   0,   0,   0,   0,   0,   0,   0,   0,   0,   0,   0,\n",
              "          0,   0],\n",
              "       [  0,   0,   0,   0,   0,   0,   0,   0,   0,   0,   0,   0,  35,\n",
              "        241, 225, 160, 108,   1,   0,   0,   0,   0,   0,   0,   0,   0,\n",
              "          0,   0],\n",
              "       [  0,   0,   0,   0,   0,   0,   0,   0,   0,   0,   0,   0,   0,\n",
              "         81, 240, 253, 253, 119,  25,   0,   0,   0,   0,   0,   0,   0,\n",
              "          0,   0],\n",
              "       [  0,   0,   0,   0,   0,   0,   0,   0,   0,   0,   0,   0,   0,\n",
              "          0,  45, 186, 253, 253, 150,  27,   0,   0,   0,   0,   0,   0,\n",
              "          0,   0],\n",
              "       [  0,   0,   0,   0,   0,   0,   0,   0,   0,   0,   0,   0,   0,\n",
              "          0,   0,  16,  93, 252, 253, 187,   0,   0,   0,   0,   0,   0,\n",
              "          0,   0],\n",
              "       [  0,   0,   0,   0,   0,   0,   0,   0,   0,   0,   0,   0,   0,\n",
              "          0,   0,   0,   0, 249, 253, 249,  64,   0,   0,   0,   0,   0,\n",
              "          0,   0],\n",
              "       [  0,   0,   0,   0,   0,   0,   0,   0,   0,   0,   0,   0,   0,\n",
              "          0,  46, 130, 183, 253, 253, 207,   2,   0,   0,   0,   0,   0,\n",
              "          0,   0],\n",
              "       [  0,   0,   0,   0,   0,   0,   0,   0,   0,   0,   0,   0,  39,\n",
              "        148, 229, 253, 253, 253, 250, 182,   0,   0,   0,   0,   0,   0,\n",
              "          0,   0],\n",
              "       [  0,   0,   0,   0,   0,   0,   0,   0,   0,   0,  24, 114, 221,\n",
              "        253, 253, 253, 253, 201,  78,   0,   0,   0,   0,   0,   0,   0,\n",
              "          0,   0],\n",
              "       [  0,   0,   0,   0,   0,   0,   0,   0,  23,  66, 213, 253, 253,\n",
              "        253, 253, 198,  81,   2,   0,   0,   0,   0,   0,   0,   0,   0,\n",
              "          0,   0],\n",
              "       [  0,   0,   0,   0,   0,   0,  18, 171, 219, 253, 253, 253, 253,\n",
              "        195,  80,   9,   0,   0,   0,   0,   0,   0,   0,   0,   0,   0,\n",
              "          0,   0],\n",
              "       [  0,   0,   0,   0,  55, 172, 226, 253, 253, 253, 253, 244, 133,\n",
              "         11,   0,   0,   0,   0,   0,   0,   0,   0,   0,   0,   0,   0,\n",
              "          0,   0],\n",
              "       [  0,   0,   0,   0, 136, 253, 253, 253, 212, 135, 132,  16,   0,\n",
              "          0,   0,   0,   0,   0,   0,   0,   0,   0,   0,   0,   0,   0,\n",
              "          0,   0],\n",
              "       [  0,   0,   0,   0,   0,   0,   0,   0,   0,   0,   0,   0,   0,\n",
              "          0,   0,   0,   0,   0,   0,   0,   0,   0,   0,   0,   0,   0,\n",
              "          0,   0],\n",
              "       [  0,   0,   0,   0,   0,   0,   0,   0,   0,   0,   0,   0,   0,\n",
              "          0,   0,   0,   0,   0,   0,   0,   0,   0,   0,   0,   0,   0,\n",
              "          0,   0],\n",
              "       [  0,   0,   0,   0,   0,   0,   0,   0,   0,   0,   0,   0,   0,\n",
              "          0,   0,   0,   0,   0,   0,   0,   0,   0,   0,   0,   0,   0,\n",
              "          0,   0]], dtype=uint8)"
            ]
          },
          "execution_count": 9,
          "metadata": {},
          "output_type": "execute_result"
        }
      ],
      "source": [
        "# 圖片資料型別是uint8?還是float?\n",
        "X_train[0]"
      ]
    },
    {
      "cell_type": "code",
      "execution_count": 10,
      "metadata": {
        "colab": {
          "base_uri": "https://localhost:8080/",
          "height": 292
        },
        "id": "EjGUdFR-8MMp",
        "outputId": "44666727-a5ca-43f9-e8a0-a7e1140666de"
      },
      "outputs": [
        {
          "data": {
            "text/plain": [
              "<matplotlib.image.AxesImage at 0x7fe6a3cf7850>"
            ]
          },
          "execution_count": 10,
          "metadata": {},
          "output_type": "execute_result"
        },
        {
          "data": {
            "image/png": "[encoded data removed]",
            "text/plain": [
              "<Figure size 288x288 with 1 Axes>"
            ]
          },
          "metadata": {
            "needs_background": "light"
          },
          "output_type": "display_data"
        }
      ],
      "source": [
        "# 可視化第一筆資料\n",
        "plt.matshow(X_train[0])"
      ]
    },
    {
      "cell_type": "code",
      "execution_count": 11,
      "metadata": {
        "colab": {
          "base_uri": "https://localhost:8080/"
        },
        "id": "a4WAyQjO8MMp",
        "outputId": "4d0a41f0-4411-4f9f-a9de-32cac0b295f6"
      },
      "outputs": [
        {
          "data": {
            "text/plain": [
              "5"
            ]
          },
          "execution_count": 11,
          "metadata": {},
          "output_type": "execute_result"
        }
      ],
      "source": [
        "# 第一筆資料的類別或標註\n",
        "y_train[0]"
      ]
    },
    {
      "cell_type": "markdown",
      "metadata": {
        "id": "zP6nLMw38MMp"
      },
      "source": [
        "### 前處理\n",
        "data augmentation, standardization, normalization, reshape"
      ]
    },
    {
      "cell_type": "code",
      "execution_count": 12,
      "metadata": {
        "id": "4wKS3U958MMq"
      },
      "outputs": [],
      "source": [
        "# 選擇何種standardization和normalization的演算法，與神經網路的activation function和資料集資料的型態有關\n",
        "# 因為我們的資料的型態是uint8的圖片，且神經網路的activation function是sigmoid，所以選擇min-max normalization\n",
        "\n",
        "X_train_norm = X_train / 255\n",
        "X_val_norm = X_val / 255"
      ]
    },
    {
      "cell_type": "code",
      "execution_count": 13,
      "metadata": {
        "colab": {
          "base_uri": "https://localhost:8080/"
        },
        "id": "FgkCG2mK8MMq",
        "outputId": "8eb883f0-5085-44a7-dcf1-cd9548dc603d"
      },
      "outputs": [
        {
          "data": {
            "text/plain": [
              "array([[0.        , 0.        , 0.        , 0.        , 0.        ,\n",
              "        0.        , 0.        , 0.        , 0.        , 0.        ,\n",
              "        0.        , 0.        , 0.        , 0.        , 0.        ,\n",
              "        0.        , 0.        , 0.        , 0.        , 0.        ,\n",
              "        0.        , 0.        , 0.        , 0.        , 0.        ,\n",
              "        0.        , 0.        , 0.        ],\n",
              "       [0.        , 0.        , 0.        , 0.        , 0.        ,\n",
              "        0.        , 0.        , 0.        , 0.        , 0.        ,\n",
              "        0.        , 0.        , 0.        , 0.        , 0.        ,\n",
              "        0.        , 0.        , 0.        , 0.        , 0.        ,\n",
              "        0.        , 0.        , 0.        , 0.        , 0.        ,\n",
              "        0.        , 0.        , 0.        ],\n",
              "       [0.        , 0.        , 0.        , 0.        , 0.        ,\n",
              "        0.        , 0.        , 0.        , 0.        , 0.        ,\n",
              "        0.        , 0.        , 0.        , 0.        , 0.        ,\n",
              "        0.        , 0.        , 0.        , 0.        , 0.        ,\n",
              "        0.        , 0.        , 0.        , 0.        , 0.        ,\n",
              "        0.        , 0.        , 0.        ],\n",
              "       [0.        , 0.        , 0.        , 0.        , 0.        ,\n",
              "        0.        , 0.        , 0.        , 0.        , 0.        ,\n",
              "        0.        , 0.        , 0.        , 0.        , 0.        ,\n",
              "        0.        , 0.        , 0.        , 0.        , 0.        ,\n",
              "        0.        , 0.        , 0.        , 0.        , 0.        ,\n",
              "        0.        , 0.        , 0.        ],\n",
              "       [0.        , 0.        , 0.        , 0.        , 0.        ,\n",
              "        0.        , 0.        , 0.        , 0.        , 0.        ,\n",
              "        0.        , 0.        , 0.        , 0.        , 0.        ,\n",
              "        0.        , 0.        , 0.        , 0.        , 0.        ,\n",
              "        0.        , 0.        , 0.        , 0.        , 0.        ,\n",
              "        0.        , 0.        , 0.        ],\n",
              "       [0.        , 0.        , 0.        , 0.        , 0.        ,\n",
              "        0.        , 0.        , 0.        , 0.        , 0.        ,\n",
              "        0.        , 0.        , 0.01176471, 0.07058824, 0.07058824,\n",
              "        0.07058824, 0.49411765, 0.53333333, 0.68627451, 0.10196078,\n",
              "        0.65098039, 1.        , 0.96862745, 0.49803922, 0.        ,\n",
              "        0.        , 0.        , 0.        ],\n",
              "       [0.        , 0.        , 0.        , 0.        , 0.        ,\n",
              "        0.        , 0.        , 0.        , 0.11764706, 0.14117647,\n",
              "        0.36862745, 0.60392157, 0.66666667, 0.99215686, 0.99215686,\n",
              "        0.99215686, 0.99215686, 0.99215686, 0.88235294, 0.6745098 ,\n",
              "        0.99215686, 0.94901961, 0.76470588, 0.25098039, 0.        ,\n",
              "        0.        , 0.        , 0.        ],\n",
              "       [0.        , 0.        , 0.        , 0.        , 0.        ,\n",
              "        0.        , 0.        , 0.19215686, 0.93333333, 0.99215686,\n",
              "        0.99215686, 0.99215686, 0.99215686, 0.99215686, 0.99215686,\n",
              "        0.99215686, 0.99215686, 0.98431373, 0.36470588, 0.32156863,\n",
              "        0.32156863, 0.21960784, 0.15294118, 0.        , 0.        ,\n",
              "        0.        , 0.        , 0.        ],\n",
              "       [0.        , 0.        , 0.        , 0.        , 0.        ,\n",
              "        0.        , 0.        , 0.07058824, 0.85882353, 0.99215686,\n",
              "        0.99215686, 0.99215686, 0.99215686, 0.99215686, 0.77647059,\n",
              "        0.71372549, 0.96862745, 0.94509804, 0.        , 0.        ,\n",
              "        0.        , 0.        , 0.        , 0.        , 0.        ,\n",
              "        0.        , 0.        , 0.        ],\n",
              "       [0.        , 0.        , 0.        , 0.        , 0.        ,\n",
              "        0.        , 0.        , 0.        , 0.31372549, 0.61176471,\n",
              "        0.41960784, 0.99215686, 0.99215686, 0.80392157, 0.04313725,\n",
              "        0.        , 0.16862745, 0.60392157, 0.        , 0.        ,\n",
              "        0.        , 0.        , 0.        , 0.        , 0.        ,\n",
              "        0.        , 0.        , 0.        ],\n",
              "       [0.        , 0.        , 0.        , 0.        , 0.        ,\n",
              "        0.        , 0.        , 0.        , 0.        , 0.05490196,\n",
              "        0.00392157, 0.60392157, 0.99215686, 0.35294118, 0.        ,\n",
              "        0.        , 0.        , 0.        , 0.        , 0.        ,\n",
              "        0.        , 0.        , 0.        , 0.        , 0.        ,\n",
              "        0.        , 0.        , 0.        ],\n",
              "       [0.        , 0.        , 0.        , 0.        , 0.        ,\n",
              "        0.        , 0.        , 0.        , 0.        , 0.        ,\n",
              "        0.        , 0.54509804, 0.99215686, 0.74509804, 0.00784314,\n",
              "        0.        , 0.        , 0.        , 0.        , 0.        ,\n",
              "        0.        , 0.        , 0.        , 0.        , 0.        ,\n",
              "        0.        , 0.        , 0.        ],\n",
              "       [0.        , 0.        , 0.        , 0.        , 0.        ,\n",
              "        0.        , 0.        , 0.        , 0.        , 0.        ,\n",
              "        0.        , 0.04313725, 0.74509804, 0.99215686, 0.2745098 ,\n",
              "        0.        , 0.        , 0.        , 0.        , 0.        ,\n",
              "        0.        , 0.        , 0.        , 0.        , 0.        ,\n",
              "        0.        , 0.        , 0.        ],\n",
              "       [0.        , 0.        , 0.        , 0.        , 0.        ,\n",
              "        0.        , 0.        , 0.        , 0.        , 0.        ,\n",
              "        0.        , 0.        , 0.1372549 , 0.94509804, 0.88235294,\n",
              "        0.62745098, 0.42352941, 0.00392157, 0.        , 0.        ,\n",
              "        0.        , 0.        , 0.        , 0.        , 0.        ,\n",
              "        0.        , 0.        , 0.        ],\n",
              "       [0.        , 0.        , 0.        , 0.        , 0.        ,\n",
              "        0.        , 0.        , 0.        , 0.        , 0.        ,\n",
              "        0.        , 0.        , 0.        , 0.31764706, 0.94117647,\n",
              "        0.99215686, 0.99215686, 0.46666667, 0.09803922, 0.        ,\n",
              "        0.        , 0.        , 0.        , 0.        , 0.        ,\n",
              "        0.        , 0.        , 0.        ],\n",
              "       [0.        , 0.        , 0.        , 0.        , 0.        ,\n",
              "        0.        , 0.        , 0.        , 0.        , 0.        ,\n",
              "        0.        , 0.        , 0.        , 0.        , 0.17647059,\n",
              "        0.72941176, 0.99215686, 0.99215686, 0.58823529, 0.10588235,\n",
              "        0.        , 0.        , 0.        , 0.        , 0.        ,\n",
              "        0.        , 0.        , 0.        ],\n",
              "       [0.        , 0.        , 0.        , 0.        , 0.        ,\n",
              "        0.        , 0.        , 0.        , 0.        , 0.        ,\n",
              "        0.        , 0.        , 0.        , 0.        , 0.        ,\n",
              "        0.0627451 , 0.36470588, 0.98823529, 0.99215686, 0.73333333,\n",
              "        0.        , 0.        , 0.        , 0.        , 0.        ,\n",
              "        0.        , 0.        , 0.        ],\n",
              "       [0.        , 0.        , 0.        , 0.        , 0.        ,\n",
              "        0.        , 0.        , 0.        , 0.        , 0.        ,\n",
              "        0.        , 0.        , 0.        , 0.        , 0.        ,\n",
              "        0.        , 0.        , 0.97647059, 0.99215686, 0.97647059,\n",
              "        0.25098039, 0.        , 0.        , 0.        , 0.        ,\n",
              "        0.        , 0.        , 0.        ],\n",
              "       [0.        , 0.        , 0.        , 0.        , 0.        ,\n",
              "        0.        , 0.        , 0.        , 0.        , 0.        ,\n",
              "        0.        , 0.        , 0.        , 0.        , 0.18039216,\n",
              "        0.50980392, 0.71764706, 0.99215686, 0.99215686, 0.81176471,\n",
              "        0.00784314, 0.        , 0.        , 0.        , 0.        ,\n",
              "        0.        , 0.        , 0.        ],\n",
              "       [0.        , 0.        , 0.        , 0.        , 0.        ,\n",
              "        0.        , 0.        , 0.        , 0.        , 0.        ,\n",
              "        0.        , 0.        , 0.15294118, 0.58039216, 0.89803922,\n",
              "        0.99215686, 0.99215686, 0.99215686, 0.98039216, 0.71372549,\n",
              "        0.        , 0.        , 0.        , 0.        , 0.        ,\n",
              "        0.        , 0.        , 0.        ],\n",
              "       [0.        , 0.        , 0.        , 0.        , 0.        ,\n",
              "        0.        , 0.        , 0.        , 0.        , 0.        ,\n",
              "        0.09411765, 0.44705882, 0.86666667, 0.99215686, 0.99215686,\n",
              "        0.99215686, 0.99215686, 0.78823529, 0.30588235, 0.        ,\n",
              "        0.        , 0.        , 0.        , 0.        , 0.        ,\n",
              "        0.        , 0.        , 0.        ],\n",
              "       [0.        , 0.        , 0.        , 0.        , 0.        ,\n",
              "        0.        , 0.        , 0.        , 0.09019608, 0.25882353,\n",
              "        0.83529412, 0.99215686, 0.99215686, 0.99215686, 0.99215686,\n",
              "        0.77647059, 0.31764706, 0.00784314, 0.        , 0.        ,\n",
              "        0.        , 0.        , 0.        , 0.        , 0.        ,\n",
              "        0.        , 0.        , 0.        ],\n",
              "       [0.        , 0.        , 0.        , 0.        , 0.        ,\n",
              "        0.        , 0.07058824, 0.67058824, 0.85882353, 0.99215686,\n",
              "        0.99215686, 0.99215686, 0.99215686, 0.76470588, 0.31372549,\n",
              "        0.03529412, 0.        , 0.        , 0.        , 0.        ,\n",
              "        0.        , 0.        , 0.        , 0.        , 0.        ,\n",
              "        0.        , 0.        , 0.        ],\n",
              "       [0.        , 0.        , 0.        , 0.        , 0.21568627,\n",
              "        0.6745098 , 0.88627451, 0.99215686, 0.99215686, 0.99215686,\n",
              "        0.99215686, 0.95686275, 0.52156863, 0.04313725, 0.        ,\n",
              "        0.        , 0.        , 0.        , 0.        , 0.        ,\n",
              "        0.        , 0.        , 0.        , 0.        , 0.        ,\n",
              "        0.        , 0.        , 0.        ],\n",
              "       [0.        , 0.        , 0.        , 0.        , 0.53333333,\n",
              "        0.99215686, 0.99215686, 0.99215686, 0.83137255, 0.52941176,\n",
              "        0.51764706, 0.0627451 , 0.        , 0.        , 0.        ,\n",
              "        0.        , 0.        , 0.        , 0.        , 0.        ,\n",
              "        0.        , 0.        , 0.        , 0.        , 0.        ,\n",
              "        0.        , 0.        , 0.        ],\n",
              "       [0.        , 0.        , 0.        , 0.        , 0.        ,\n",
              "        0.        , 0.        , 0.        , 0.        , 0.        ,\n",
              "        0.        , 0.        , 0.        , 0.        , 0.        ,\n",
              "        0.        , 0.        , 0.        , 0.        , 0.        ,\n",
              "        0.        , 0.        , 0.        , 0.        , 0.        ,\n",
              "        0.        , 0.        , 0.        ],\n",
              "       [0.        , 0.        , 0.        , 0.        , 0.        ,\n",
              "        0.        , 0.        , 0.        , 0.        , 0.        ,\n",
              "        0.        , 0.        , 0.        , 0.        , 0.        ,\n",
              "        0.        , 0.        , 0.        , 0.        , 0.        ,\n",
              "        0.        , 0.        , 0.        , 0.        , 0.        ,\n",
              "        0.        , 0.        , 0.        ],\n",
              "       [0.        , 0.        , 0.        , 0.        , 0.        ,\n",
              "        0.        , 0.        , 0.        , 0.        , 0.        ,\n",
              "        0.        , 0.        , 0.        , 0.        , 0.        ,\n",
              "        0.        , 0.        , 0.        , 0.        , 0.        ,\n",
              "        0.        , 0.        , 0.        , 0.        , 0.        ,\n",
              "        0.        , 0.        , 0.        ]])"
            ]
          },
          "execution_count": 13,
          "metadata": {},
          "output_type": "execute_result"
        }
      ],
      "source": [
        "# 執行min-max normalization之後，資料數值會介於0與1之間\n",
        "X_train_norm[0]"
      ]
    },
    {
      "cell_type": "code",
      "execution_count": 14,
      "metadata": {
        "id": "KujBiiKe8MMr"
      },
      "outputs": [],
      "source": [
        "# reshape (60000, 28, 28) to (60000, 784) and (10000, 28, 28) to (10000, 784)\n",
        "\n",
        "X_train_flattened = X_train_norm.reshape((len(X_train), 784))\n",
        "X_val_flattened = X_val_norm.reshape((len(X_val), 784))"
      ]
    },
    {
      "cell_type": "markdown",
      "metadata": {
        "id": "3o7iSGbz8MMr"
      },
      "source": [
        "### 建構神經網路\n",
        "包含網路結構、優化器、損失函數、度量指標"
      ]
    },
    {
      "cell_type": "markdown",
      "metadata": {
        "id": "5VN_-4OD8MMr"
      },
      "source": [
        "![MNIST_basic.png](data:image/png;base64,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)"
      ]
    },
    {
      "cell_type": "code",
      "execution_count": 15,
      "metadata": {
        "id": "X9IccKPl8MMr"
      },
      "outputs": [],
      "source": [
        "# 單層全連接網路結構\n",
        "model = keras.Sequential([\n",
        "    keras.layers.Dense(10, input_shape=(784,), activation='sigmoid')\n",
        "])"
      ]
    },
    {
      "cell_type": "code",
      "execution_count": 16,
      "metadata": {
        "id": "TGcQ1gbj8MMs"
      },
      "outputs": [],
      "source": [
        "# 優化器、損失函數、度量指標\n",
        "# 優化器包含learning rate，在此使用預設值\n",
        "model.compile(optimizer='adam',\n",
        "              loss='sparse_categorical_crossentropy',\n",
        "              metrics=['accuracy'])"
      ]
    },
    {
      "cell_type": "markdown",
      "metadata": {
        "id": "p6b3DZ5B8MMs"
      },
      "source": [
        "### 使用TensorFlow內建的training loop進行模型訓練"
      ]
    },
    {
      "cell_type": "code",
      "execution_count": 17,
      "metadata": {
        "colab": {
          "base_uri": "https://localhost:8080/"
        },
        "id": "T7h3Rsam8MMs",
        "outputId": "e6c8ede0-6eae-4b07-b68c-85c886c0904d"
      },
      "outputs": [
        {
          "name": "stdout",
          "output_type": "stream",
          "text": [
            "Epoch 1/5\n",
            "1875/1875 [==============================] - 4s 2ms/step - loss: 0.4682 - accuracy: 0.8777\n",
            "Epoch 2/5\n",
            "1875/1875 [==============================] - 5s 3ms/step - loss: 0.3030 - accuracy: 0.9148\n",
            "Epoch 3/5\n",
            "1875/1875 [==============================] - 6s 3ms/step - loss: 0.2832 - accuracy: 0.9209\n",
            "Epoch 4/5\n",
            "1875/1875 [==============================] - 6s 3ms/step - loss: 0.2733 - accuracy: 0.9236\n",
            "Epoch 5/5\n",
            "1875/1875 [==============================] - 6s 3ms/step - loss: 0.2664 - accuracy: 0.9261\n"
          ]
        },
        {
          "data": {
            "text/plain": [
              "<keras.callbacks.History at 0x7fe6a3cf7d90>"
            ]
          },
          "execution_count": 17,
          "metadata": {},
          "output_type": "execute_result"
        }
      ],
      "source": [
        "# 開始訓練5個epochs\n",
        "# 此處的accuracy是訓練集的accuracy\n",
        "model.fit(X_train_flattened, y_train, epochs=5)"
      ]
    },
    {
      "cell_type": "markdown",
      "metadata": {
        "id": "OYjmvUrz8MMt"
      },
      "source": [
        "### 驗證和分析訓練結果"
      ]
    },
    {
      "cell_type": "code",
      "execution_count": 18,
      "metadata": {
        "colab": {
          "base_uri": "https://localhost:8080/"
        },
        "id": "wBsyAFMF8MMt",
        "outputId": "2afe0935-e3e2-434c-ab14-8d296dcccf44"
      },
      "outputs": [
        {
          "name": "stdout",
          "output_type": "stream",
          "text": [
            "313/313 [==============================] - 1s 2ms/step - loss: 0.2681 - accuracy: 0.9258\n"
          ]
        },
        {
          "data": {
            "text/plain": [
              "[0.26811859011650085, 0.9258000254631042]"
            ]
          },
          "execution_count": 18,
          "metadata": {},
          "output_type": "execute_result"
        }
      ],
      "source": [
        "# 使用未參與訓練的驗證集驗證模型泛化性\n",
        "# 此處的accuracy是驗證集的accuracy\n",
        "model.evaluate(X_val_flattened, y_val)"
      ]
    },
    {
      "cell_type": "code",
      "execution_count": 19,
      "metadata": {
        "id": "s2nspADS8MMt"
      },
      "outputs": [],
      "source": [
        "# 推論(Inference)或預測(Prediction)1張圖片\n",
        "predict_one = model.predict(X_val_flattened[:1])"
      ]
    },
    {
      "cell_type": "code",
      "execution_count": 20,
      "metadata": {
        "colab": {
          "base_uri": "https://localhost:8080/"
        },
        "id": "t70jM5mT8MMt",
        "outputId": "ab4fa5c1-06a1-4a90-d4b6-bbc459247714"
      },
      "outputs": [
        {
          "data": {
            "text/plain": [
              "array([[2.9199988e-02, 5.2710311e-07, 4.7497809e-02, 9.4945836e-01,\n",
              "        2.2548437e-03, 1.1348656e-01, 1.1924818e-06, 9.9979836e-01,\n",
              "        1.3891220e-01, 6.6059780e-01]], dtype=float32)"
            ]
          },
          "execution_count": 20,
          "metadata": {},
          "output_type": "execute_result"
        }
      ],
      "source": [
        "# 預測的結果是什麼? 為什麼是10個float32數值?\n",
        "predict_one"
      ]
    },
    {
      "cell_type": "code",
      "execution_count": 21,
      "metadata": {
        "colab": {
          "base_uri": "https://localhost:8080/"
        },
        "id": "w1zETWLr8MMu",
        "outputId": "5f445ce1-f5bc-4331-b32b-bb4c63ea40ad"
      },
      "outputs": [
        {
          "data": {
            "text/plain": [
              "7"
            ]
          },
          "execution_count": 21,
          "metadata": {},
          "output_type": "execute_result"
        }
      ],
      "source": [
        "# numpy.argmax: Returns the indices of the maximum values along an axis.\n",
        "np.argmax(predict_one)"
      ]
    },
    {
      "cell_type": "markdown",
      "metadata": {
        "id": "-P9O5bwo8MMu"
      },
      "source": [
        "### 混淆矩陣\n",
        "評估模型必要的度量指標"
      ]
    },
    {
      "cell_type": "code",
      "execution_count": 22,
      "metadata": {
        "id": "9xt1fOoC8MMu"
      },
      "outputs": [],
      "source": [
        "# 預測全部驗證集\n",
        "valset_predicted = model.predict(X_val_flattened)\n",
        "\n",
        "# 預測的結果轉換成預測的類別\n",
        "valset_predicted_classes = [np.argmax(i) for i in valset_predicted]"
      ]
    },
    {
      "cell_type": "code",
      "execution_count": 23,
      "metadata": {
        "colab": {
          "base_uri": "https://localhost:8080/"
        },
        "id": "07GgMkMP8MMu",
        "outputId": "21b3aceb-009d-4314-b780-9518179136fd"
      },
      "outputs": [
        {
          "data": {
            "text/plain": [
              "<tf.Tensor: shape=(10, 10), dtype=int32, numpy=\n",
              "array([[ 959,    0,    1,    1,    0,    6,    7,    4,    2,    0],\n",
              "       [   0, 1117,    3,    2,    0,    1,    4,    2,    6,    0],\n",
              "       [   7,    9,  920,   17,    9,    5,   12,   12,   39,    2],\n",
              "       [   4,    0,   17,  899,    0,   39,    2,   12,   28,    9],\n",
              "       [   1,    1,    3,    2,  918,    0,   11,    4,    7,   35],\n",
              "       [   9,    3,    2,   23,   12,  783,   17,    6,   29,    8],\n",
              "       [   9,    3,    6,    1,    8,   11,  915,    2,    3,    0],\n",
              "       [   1,    8,   23,    5,    4,    0,    0,  956,    1,   30],\n",
              "       [   5,    9,    5,   14,    9,   23,    9,   12,  881,    7],\n",
              "       [   8,    7,    2,    8,   29,    7,    0,   26,   12,  910]],\n",
              "      dtype=int32)>"
            ]
          },
          "execution_count": 23,
          "metadata": {},
          "output_type": "execute_result"
        }
      ],
      "source": [
        "# 產生混淆矩陣\n",
        "confusion_matrix = tf.math.confusion_matrix(labels=y_val, predictions=valset_predicted_classes)\n",
        "confusion_matrix"
      ]
    },
    {
      "cell_type": "code",
      "execution_count": 24,
      "metadata": {
        "colab": {
          "base_uri": "https://localhost:8080/",
          "height": 459
        },
        "id": "hy9ZFmaO8MMu",
        "outputId": "f9ce1697-b0ce-401a-e6a0-fd8168695743"
      },
      "outputs": [
        {
          "data": {
            "text/plain": [
              "Text(69.0, 0.5, 'True Class')"
            ]
          },
          "execution_count": 24,
          "metadata": {},
          "output_type": "execute_result"
        },
        {
          "data": {
            "image/png": "[encoded data removed]",
            "text/plain": [
              "<Figure size 720x504 with 2 Axes>"
            ]
          },
          "metadata": {
            "needs_background": "light"
          },
          "output_type": "display_data"
        }
      ],
      "source": [
        "# 可視化混淆矩陣\n",
        "plt.figure(figsize = (10,7))\n",
        "sn.heatmap(confusion_matrix, annot=True, fmt='d')\n",
        "plt.xlabel('Predicted Class')\n",
        "plt.ylabel('True Class')"
      ]
    },
    {
      "cell_type": "markdown",
      "metadata": {
        "id": "1PIXVezg8MMv"
      },
      "source": [
        "<h3 style=\"color:red\" align=\"center\">重置、重新再訓練一次，比較兩次混淆矩陣的差異</h3>"
      ]
    }
  ],
  "metadata": {
    "colab": {
      "collapsed_sections": [],
      "name": "basic_tensorflow_minst.ipynb",
      "provenance": []
    },
    "kernelspec": {
      "display_name": "Python 3.10.4 ('tensorflow29')",
      "language": "python",
      "name": "python3"
    },
    "language_info": {
      "codemirror_mode": {
        "name": "ipython",
        "version": 3
      },
      "file_extension": ".py",
      "mimetype": "text/x-python",
      "name": "python",
      "nbconvert_exporter": "python",
      "pygments_lexer": "ipython3",
      "version": "3.10.4"
    },
    "orig_nbformat": 4,
    "vscode": {
      "interpreter": {
        "hash": "2d5d66d3e011262a82143f2cc70b21a580d1a27801b304b05de10553bd8ee27f"
      }
    }
  },
  "nbformat": 4,
  "nbformat_minor": 0
}
